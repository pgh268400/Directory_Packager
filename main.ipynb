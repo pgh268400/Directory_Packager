{
 "cells": [
  {
   "cell_type": "code",
   "execution_count": 2,
   "outputs": [],
   "source": [
    "import os, glob\n",
    "import shutil\n",
    "import natsort\n",
    "import random"
   ],
   "metadata": {
    "collapsed": false,
    "pycharm": {
     "name": "#%%\n"
    }
   }
  },
  {
   "cell_type": "code",
   "execution_count": 149,
   "outputs": [],
   "source": [
    "def create_dir(dir):\n",
    "    try:\n",
    "        if not os.path.exists(dir):\n",
    "            os.makedirs(dir)\n",
    "    except OSError:\n",
    "        print('디렉토리 생성 중 오류가 발생하였습니다.')\n",
    "def remove_dir(dir):\n",
    "    if os.path.exists(dir):\n",
    "        shutil.rmtree(dir)\n",
    "def auto_make_dir(dir, message=True):\n",
    "    if message:\n",
    "        print(f\"{dir} 폴더를 생성하고 있습니다...\")\n",
    "\n",
    "    #폴더가 있을 것을 대비하여 삭제 후 생성\n",
    "    remove_dir(dir)\n",
    "    create_dir(dir)\n",
    "def pre_processing(dir):\n",
    "    #사전 변수 선언\n",
    "    path_lst = os.listdir(path)\n",
    "    new_lst = []\n",
    "\n",
    "    #디렉토리(폴더)는 무시하고 파일만 걸러낸다.\n",
    "    for element in path_lst:\n",
    "        if not os.path.isdir(path + r\"\\\\\" + element):\n",
    "            new_lst.append(element)\n",
    "\n",
    "    #파일 여부 검사\n",
    "    if not new_lst:\n",
    "        return None # 파일이 존재하지 않음\n",
    "    else:\n",
    "        #윈도우 탐색기(Natural Sort) 정렬\n",
    "        return natsort.natsorted(new_lst)"
   ],
   "metadata": {
    "collapsed": false,
    "pycharm": {
     "name": "#%%\n"
    }
   }
  },
  {
   "cell_type": "code",
   "execution_count": 150,
   "outputs": [],
   "source": [
    "def split_sequence(path, target, form):\n",
    "    \"\"\"\n",
    "    파일을 순차적으로 탐색하면서 원하는 갯수대로 나눠서 폴더에 저장합니다.\n",
    "    :param path: 파일 경로입니다.\n",
    "    :param target: 파일을 자를 갯수입니다.\n",
    "    :param form: 폴더 명칭입니다. test_{i} 와 같이 입력하면 test_1, test_2 와 같은 형태로 만들어집니다. 반드시 폴더 명에 {i}는 포함시켜주세요!\n",
    "    \"\"\"\n",
    "\n",
    "    i = 1 #인덱스 변수\n",
    "\n",
    "    #작업 전 선처리\n",
    "    new_lst = pre_processing(path)\n",
    "    if not new_lst:\n",
    "        print(\"파일이 존재하지 않습니다.\")\n",
    "        return\n",
    "\n",
    "    for j in range(0, len(new_lst)):\n",
    "        #폴더 만들기\n",
    "        if j == 0 or j % target == 0:\n",
    "            dir_path = path + \"\\\\\" + form.format(i = i);\n",
    "            auto_make_dir(dir_path)\n",
    "            i += 1 #인덱스 증가\n",
    "\n",
    "        #파일 복사하기\n",
    "        origin = path + \"\\\\\" + new_lst[j]\n",
    "        dest = dir_path + \"\\\\\" + new_lst[j]\n",
    "        shutil.copyfile(origin, dest)\n",
    "\n",
    "    print(\"작업이 완료되었습니다.\")\n",
    "def split_balance(path, target, form):\n",
    "    \"\"\"\n",
    "    파일을 고르게 띄엄 띄엄 탐색하면서 원하는 갯수대로 폴더에 저장합니다.\n",
    "    예를 들어서 디렉토리에 파일이 1.jpg, 2.jpg, ... , 5.jpg 처럼 존재한다면,\n",
    "    이 함수로 3개를 추출하면 2칸씩 고르게 건너뛰면서 1.jpg, 3.jpg, 5.jpg 를 추출해줍니다.\n",
    "\n",
    "    :param path: 파일 경로입니다.\n",
    "    :param target: 파일을 자를 갯수입니다.\n",
    "    :param form: 저장할 폴더 명칭입니다.\n",
    "    \"\"\"\n",
    "\n",
    "    i = 1 #인덱스 변수\n",
    "\n",
    "    #작업 전 선처리\n",
    "    new_lst = pre_processing(path)\n",
    "    if not new_lst:\n",
    "        print(\"파일이 존재하지 않습니다.\")\n",
    "        return\n",
    "\n",
    "    count = len(new_lst) // target #파일을 몇칸씩 건너뛰면서 추려낼지 결정\n",
    "\n",
    "    #파일 목록 생성\n",
    "    work_lst = []\n",
    "    for k in range(0, len(new_lst), count):\n",
    "        work_lst.append(new_lst[k])\n",
    "    work_lst = work_lst[:target] #초과하면 짜르기\n",
    "\n",
    "    #폴더 만들기\n",
    "    dir_path = path + \"\\\\\" + form\n",
    "    auto_make_dir(dir_path)\n",
    "\n",
    "    for j in range(0, len(work_lst)):\n",
    "        #파일 복사하기\n",
    "        origin = path + \"\\\\\" + work_lst[j]\n",
    "        dest = dir_path + \"\\\\\" + work_lst[j]\n",
    "        shutil.copyfile(origin, dest)\n",
    "\n",
    "    print(\"작업이 완료되었습니다.\")\n",
    "def split_random(path, target, form):\n",
    "    \"\"\"\n",
    "    디렉토리에서 파일을 랜덤하게 추출하여 저장하는 함수입니다.\n",
    "    추출할 갯수가 기존 존재하는 파일 갯수보다 크거나 같을경우 작동하지 않습니다.\n",
    "    (파일 50개에서 50개 만큼 랜덤하게 뽑는것은 전부 뽑는것과 같기 때문에 의미가 없습니다.)\n",
    "\n",
    "    :param path: 파일 경로입니다.\n",
    "    :param target: 파일을 자를 갯수입니다.\n",
    "    :param form: 저장할 폴더 명칭입니다.\n",
    "    \"\"\"\n",
    "\n",
    "    #작업 전 선처리\n",
    "    new_lst = pre_processing(path)\n",
    "    if not new_lst:\n",
    "        print(\"파일이 존재하지 않습니다.\")\n",
    "        return\n",
    "\n",
    "    # 리스트에서 n개 랜덤 추출\n",
    "    if target >= len(new_lst):\n",
    "        print(\"오류 : 랜덤 추출할 파일 갯수는 반드시 디렉토리에 존재하는 파일 갯수보다 작아야 합니다.\")\n",
    "        return\n",
    "    else:\n",
    "        work_lst = random.sample(new_lst, target) #중복 허용 안함!\n",
    "\n",
    "    #폴더 만들기\n",
    "    dir_path = path + \"\\\\\" + form\n",
    "    auto_make_dir(dir_path)\n",
    "\n",
    "    for j in range(0, len(work_lst)):\n",
    "        #파일 복사하기\n",
    "        origin = path + \"\\\\\" + work_lst[j]\n",
    "        dest = dir_path + \"\\\\\" + work_lst[j]\n",
    "        shutil.copyfile(origin, dest)\n",
    "\n",
    "    print(\"작업이 완료되었습니다.\")\n",
    "    pass"
   ],
   "metadata": {
    "collapsed": false,
    "pycharm": {
     "name": "#%%\n"
    }
   }
  },
  {
   "cell_type": "code",
   "execution_count": 152,
   "outputs": [
    {
     "name": "stdout",
     "output_type": "stream",
     "text": [
      "C:\\Users\\pgh26\\Desktop\\어쌔신 크리드 오디세이 스크린샷\\screenshots\\prepost_1 폴더를 생성하고 있습니다...\n",
      "C:\\Users\\pgh26\\Desktop\\어쌔신 크리드 오디세이 스크린샷\\screenshots\\prepost_2 폴더를 생성하고 있습니다...\n",
      "C:\\Users\\pgh26\\Desktop\\어쌔신 크리드 오디세이 스크린샷\\screenshots\\prepost_3 폴더를 생성하고 있습니다...\n",
      "C:\\Users\\pgh26\\Desktop\\어쌔신 크리드 오디세이 스크린샷\\screenshots\\prepost_4 폴더를 생성하고 있습니다...\n",
      "C:\\Users\\pgh26\\Desktop\\어쌔신 크리드 오디세이 스크린샷\\screenshots\\prepost_5 폴더를 생성하고 있습니다...\n",
      "C:\\Users\\pgh26\\Desktop\\어쌔신 크리드 오디세이 스크린샷\\screenshots\\prepost_6 폴더를 생성하고 있습니다...\n",
      "C:\\Users\\pgh26\\Desktop\\어쌔신 크리드 오디세이 스크린샷\\screenshots\\prepost_7 폴더를 생성하고 있습니다...\n",
      "C:\\Users\\pgh26\\Desktop\\어쌔신 크리드 오디세이 스크린샷\\screenshots\\prepost_8 폴더를 생성하고 있습니다...\n",
      "C:\\Users\\pgh26\\Desktop\\어쌔신 크리드 오디세이 스크린샷\\screenshots\\prepost_9 폴더를 생성하고 있습니다...\n",
      "C:\\Users\\pgh26\\Desktop\\어쌔신 크리드 오디세이 스크린샷\\screenshots\\prepost_10 폴더를 생성하고 있습니다...\n",
      "C:\\Users\\pgh26\\Desktop\\어쌔신 크리드 오디세이 스크린샷\\screenshots\\prepost_11 폴더를 생성하고 있습니다...\n",
      "C:\\Users\\pgh26\\Desktop\\어쌔신 크리드 오디세이 스크린샷\\screenshots\\prepost_12 폴더를 생성하고 있습니다...\n",
      "C:\\Users\\pgh26\\Desktop\\어쌔신 크리드 오디세이 스크린샷\\screenshots\\prepost_13 폴더를 생성하고 있습니다...\n",
      "C:\\Users\\pgh26\\Desktop\\어쌔신 크리드 오디세이 스크린샷\\screenshots\\prepost_14 폴더를 생성하고 있습니다...\n",
      "C:\\Users\\pgh26\\Desktop\\어쌔신 크리드 오디세이 스크린샷\\screenshots\\prepost_15 폴더를 생성하고 있습니다...\n",
      "C:\\Users\\pgh26\\Desktop\\어쌔신 크리드 오디세이 스크린샷\\screenshots\\prepost_16 폴더를 생성하고 있습니다...\n",
      "C:\\Users\\pgh26\\Desktop\\어쌔신 크리드 오디세이 스크린샷\\screenshots\\prepost_17 폴더를 생성하고 있습니다...\n",
      "C:\\Users\\pgh26\\Desktop\\어쌔신 크리드 오디세이 스크린샷\\screenshots\\prepost_18 폴더를 생성하고 있습니다...\n",
      "C:\\Users\\pgh26\\Desktop\\어쌔신 크리드 오디세이 스크린샷\\screenshots\\prepost_19 폴더를 생성하고 있습니다...\n",
      "C:\\Users\\pgh26\\Desktop\\어쌔신 크리드 오디세이 스크린샷\\screenshots\\prepost_20 폴더를 생성하고 있습니다...\n",
      "C:\\Users\\pgh26\\Desktop\\어쌔신 크리드 오디세이 스크린샷\\screenshots\\prepost_21 폴더를 생성하고 있습니다...\n",
      "C:\\Users\\pgh26\\Desktop\\어쌔신 크리드 오디세이 스크린샷\\screenshots\\prepost_22 폴더를 생성하고 있습니다...\n",
      "C:\\Users\\pgh26\\Desktop\\어쌔신 크리드 오디세이 스크린샷\\screenshots\\prepost_23 폴더를 생성하고 있습니다...\n",
      "C:\\Users\\pgh26\\Desktop\\어쌔신 크리드 오디세이 스크린샷\\screenshots\\prepost_24 폴더를 생성하고 있습니다...\n",
      "C:\\Users\\pgh26\\Desktop\\어쌔신 크리드 오디세이 스크린샷\\screenshots\\prepost_25 폴더를 생성하고 있습니다...\n",
      "C:\\Users\\pgh26\\Desktop\\어쌔신 크리드 오디세이 스크린샷\\screenshots\\prepost_26 폴더를 생성하고 있습니다...\n",
      "C:\\Users\\pgh26\\Desktop\\어쌔신 크리드 오디세이 스크린샷\\screenshots\\prepost_27 폴더를 생성하고 있습니다...\n",
      "작업이 완료되었습니다.\n",
      "C:\\Users\\pgh26\\Desktop\\어쌔신 크리드 오디세이 스크린샷\\screenshots\\highlight 폴더를 생성하고 있습니다...\n",
      "작업이 완료되었습니다.\n",
      "C:\\Users\\pgh26\\Desktop\\어쌔신 크리드 오디세이 스크린샷\\screenshots\\random 폴더를 생성하고 있습니다...\n",
      "작업이 완료되었습니다.\n"
     ]
    }
   ],
   "source": [
    "path = r\"C:\\Users\\pgh26\\Desktop\\어쌔신 크리드 오디세이 스크린샷\\screenshots\" #r = 경로 raw string 처리\n",
    "\n",
    "split_sequence(path, 50, \"prepost_{i}\") #순차 저장\n",
    "split_balance(path, 50, \"highlight\") #균형 저장\n",
    "split_random(path, 50, \"random\") #랜덤 저장"
   ],
   "metadata": {
    "collapsed": false,
    "pycharm": {
     "name": "#%%\n"
    }
   }
  },
  {
   "cell_type": "code",
   "execution_count": null,
   "outputs": [],
   "source": [],
   "metadata": {
    "collapsed": false,
    "pycharm": {
     "name": "#%%\n"
    }
   }
  }
 ],
 "metadata": {
  "kernelspec": {
   "display_name": "Python 3",
   "language": "python",
   "name": "python3"
  },
  "language_info": {
   "codemirror_mode": {
    "name": "ipython",
    "version": 2
   },
   "file_extension": ".py",
   "mimetype": "text/x-python",
   "name": "python",
   "nbconvert_exporter": "python",
   "pygments_lexer": "ipython2",
   "version": "2.7.6"
  }
 },
 "nbformat": 4,
 "nbformat_minor": 0
}